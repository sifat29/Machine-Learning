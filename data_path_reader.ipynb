{
  "nbformat": 4,
  "nbformat_minor": 0,
  "metadata": {
    "colab": {
      "name": "data_path_reader.ipynb",
      "provenance": [],
      "collapsed_sections": []
    },
    "kernelspec": {
      "name": "python3",
      "display_name": "Python 3"
    },
    "language_info": {
      "name": "python"
    }
  },
  "cells": [
    {
      "cell_type": "markdown",
      "source": [
        "#Important Directory"
      ],
      "metadata": {
        "id": "z1PotPbBtLcG"
      }
    },
    {
      "cell_type": "code",
      "execution_count": 1,
      "metadata": {
        "id": "mS8FklhasPc6"
      },
      "outputs": [],
      "source": [
        "import os\n",
        "import json"
      ]
    },
    {
      "cell_type": "markdown",
      "source": [
        "#The Main Path"
      ],
      "metadata": {
        "id": "dmCt-i8jtgoG"
      }
    },
    {
      "cell_type": "code",
      "source": [
        "path1 = os.chdir('/content/drive/MyDrive/Research/Computer Vision/ImageClassification/Muzzle')"
      ],
      "metadata": {
        "id": "h6t8H0BWtfh_"
      },
      "execution_count": 45,
      "outputs": []
    },
    {
      "cell_type": "code",
      "source": [
        "# i = 1\n",
        "\n",
        "# for file in os.listdir(path1):\n",
        "#     new_file_name = f\"{i}\"\n",
        "#     os.rename(file, new_file_name)\n",
        "#     i = i+1"
      ],
      "metadata": {
        "id": "MxRM7Q5E8q3c"
      },
      "execution_count": 47,
      "outputs": []
    },
    {
      "cell_type": "markdown",
      "source": [
        "#Make The Excel File"
      ],
      "metadata": {
        "id": "it-Y82E-tn1c"
      }
    },
    {
      "cell_type": "code",
      "source": [
        "path1 = ('/content/drive/MyDrive/Research/Computer Vision/ImageClassification/Muzzle')\n",
        "subDirectory = list(os.walk(path1))\n",
        "sd = subDirectory[0][1]\n",
        "# sd = ' '.join([str(e) for e in sd])\n",
        "# print(type(sd))\n",
        "sd"
      ],
      "metadata": {
        "id": "bzE6jww8tmTH",
        "colab": {
          "base_uri": "https://localhost:8080/"
        },
        "outputId": "4bfb66dd-09d5-4115-fd62-4e7b12946ce1"
      },
      "execution_count": 68,
      "outputs": [
        {
          "output_type": "execute_result",
          "data": {
            "text/plain": [
              "['2',\n",
              " '3',\n",
              " '4',\n",
              " '5',\n",
              " '6',\n",
              " '7',\n",
              " '8',\n",
              " '9',\n",
              " '10',\n",
              " '11',\n",
              " '12',\n",
              " '13',\n",
              " '14',\n",
              " '15',\n",
              " '16',\n",
              " '17',\n",
              " '18',\n",
              " '19',\n",
              " '20']"
            ]
          },
          "metadata": {},
          "execution_count": 68
        }
      ]
    },
    {
      "cell_type": "code",
      "source": [
        "# sd = tuple(slice(x) for x in sd)\n",
        "\n",
        "\n",
        "for i in sd.items():\n",
        "  sd = sd[i]\n",
        "  print(sd)"
      ],
      "metadata": {
        "colab": {
          "base_uri": "https://localhost:8080/",
          "height": 246
        },
        "id": "7rgYwpXhT2v3",
        "outputId": "f40b64e5-68b1-493a-daff-be50b4f60a69"
      },
      "execution_count": 71,
      "outputs": [
        {
          "output_type": "error",
          "ename": "AttributeError",
          "evalue": "ignored",
          "traceback": [
            "\u001b[0;31m---------------------------------------------------------------------------\u001b[0m",
            "\u001b[0;31mAttributeError\u001b[0m                            Traceback (most recent call last)",
            "\u001b[0;32m<ipython-input-71-a0a1674d2b3a>\u001b[0m in \u001b[0;36m<module>\u001b[0;34m()\u001b[0m\n\u001b[1;32m      2\u001b[0m \u001b[0;34m\u001b[0m\u001b[0m\n\u001b[1;32m      3\u001b[0m \u001b[0;34m\u001b[0m\u001b[0m\n\u001b[0;32m----> 4\u001b[0;31m \u001b[0;32mfor\u001b[0m \u001b[0mi\u001b[0m \u001b[0;32min\u001b[0m \u001b[0msd\u001b[0m\u001b[0;34m.\u001b[0m\u001b[0mitems\u001b[0m\u001b[0;34m(\u001b[0m\u001b[0;34m)\u001b[0m\u001b[0;34m:\u001b[0m\u001b[0;34m\u001b[0m\u001b[0;34m\u001b[0m\u001b[0m\n\u001b[0m\u001b[1;32m      5\u001b[0m   \u001b[0msd\u001b[0m \u001b[0;34m=\u001b[0m \u001b[0msd\u001b[0m\u001b[0;34m[\u001b[0m\u001b[0mi\u001b[0m\u001b[0;34m]\u001b[0m\u001b[0;34m\u001b[0m\u001b[0;34m\u001b[0m\u001b[0m\n\u001b[1;32m      6\u001b[0m   \u001b[0mprint\u001b[0m\u001b[0;34m(\u001b[0m\u001b[0msd\u001b[0m\u001b[0;34m)\u001b[0m\u001b[0;34m\u001b[0m\u001b[0;34m\u001b[0m\u001b[0m\n",
            "\u001b[0;31mAttributeError\u001b[0m: 'list' object has no attribute 'items'"
          ]
        }
      ]
    },
    {
      "cell_type": "code",
      "source": [
        "sd1 = subDirectory[1][2]\n",
        "sd1 = list(sd1)\n",
        "sd1"
      ],
      "metadata": {
        "colab": {
          "base_uri": "https://localhost:8080/"
        },
        "id": "g8n0OThRmSUb",
        "outputId": "437858c6-cfca-455a-8b68-db1f71003a7e"
      },
      "execution_count": 28,
      "outputs": [
        {
          "output_type": "execute_result",
          "data": {
            "text/plain": [
              "['IMG20220610090323.jpg',\n",
              " 'IMG20220610090325_BURST000_COVER.jpg',\n",
              " 'IMG20220610090325_BURST001.jpg',\n",
              " 'IMG20220610090325_BURST002.jpg',\n",
              " 'IMG20220610090325_BURST009.jpg',\n",
              " 'IMG20220610090325_BURST010.jpg',\n",
              " 'IMG20220610090325_BURST011.jpg',\n",
              " 'IMG20220610090325_BURST012.jpg',\n",
              " 'IMG20220610090331.jpg',\n",
              " 'IMG20220610090325_BURST019.jpg',\n",
              " 'IMG20220610090335_BURST000_COVER.jpg',\n",
              " 'IMG20220610090335_BURST017.jpg']"
            ]
          },
          "metadata": {},
          "execution_count": 28
        }
      ]
    },
    {
      "cell_type": "code",
      "source": [
        "subD = list(subDirectory[0][1])\n",
        "subD"
      ],
      "metadata": {
        "colab": {
          "base_uri": "https://localhost:8080/"
        },
        "id": "6eyXfFey28_9",
        "outputId": "8c5d35de-3844-409e-fca2-1902654e2c4c"
      },
      "execution_count": 29,
      "outputs": [
        {
          "output_type": "execute_result",
          "data": {
            "text/plain": [
              "['F1',\n",
              " 'F2',\n",
              " 'F3',\n",
              " 'F4',\n",
              " 'F5',\n",
              " 'F6',\n",
              " 'F7',\n",
              " 'F8',\n",
              " 'F9',\n",
              " 'F10',\n",
              " 'F11',\n",
              " 'F12',\n",
              " 'F13',\n",
              " 'F14',\n",
              " 'F15',\n",
              " 'F16',\n",
              " 'F17',\n",
              " 'F18',\n",
              " 'F19',\n",
              " 'F20',\n",
              " 'F21',\n",
              " 'F22']"
            ]
          },
          "metadata": {},
          "execution_count": 29
        }
      ]
    },
    {
      "cell_type": "code",
      "source": [
        "# import xlsxwriter module\n",
        "# !pip install xlsxwriter\n",
        "import xlsxwriter\n",
        "\n",
        "path2 = os.chdir('/content/drive/MyDrive/Research/Computer Vision/ImageClassification')\n",
        "workbook = xlsxwriter.Workbook('data_path_reader.xlsx')\n",
        "\n",
        "# By default worksheet names in the spreadsheet will be\n",
        "# Sheet1, Sheet2 etc., but we can also specify a name.\n",
        "worksheet = workbook.add_worksheet(\"First _Sheet\")\n",
        "\n",
        "# Use the worksheet object to write\n",
        "# data via the write() method.\n",
        "worksheet.write('A1', 'Image Name')\n",
        "worksheet.write('B1', 'Folder Name')\n",
        "worksheet.write('C1', 'Extension')\n",
        "worksheet.write('D1', 'Level')\n",
        "\n",
        "current_directory = os.listdir(path1)\n",
        "subDirectory = list(os.walk(path1))\n",
        "\n",
        "row = 1\n",
        "row2 =1\n",
        "col = 0\n",
        "col2 = 0\n",
        "\n",
        "# For 1st column images name and 2nd column folder name\n",
        "for iname in sd:\n",
        "  for i in sd:\n",
        "    if iname == i:\n",
        "      subD1 = subDirectory[1][2]\n",
        "      for imgname in subD1:\n",
        "        worksheet.write(row, col, imgname)\n",
        "        row += 1\n",
        "        for flodername in i:\n",
        "          worksheet.write(row2, col2 + 1, flodername)\n",
        "          row2 += 1\n",
        "      i =+ 1\n",
        "  \n",
        "\n",
        "  \n",
        "\n",
        "# Some data we want to write to the worksheet.\n",
        "scores = (\n",
        "\t['jpg','1'],\n",
        "\t['png','1'],\n",
        "\t['jpg','1'],\n",
        "\t['jpeg','1'],\n",
        ")\n",
        "\n",
        "row1 = 1\n",
        "col1 = 0\n",
        "# Iterate over the data and write it out row by row.\n",
        "for extnsn, level in (scores):\n",
        "  # worksheet.write(row, col, iname)\n",
        "  # worksheet.write(row1, col1 + 1, fname)\n",
        "  worksheet.write(row1, col1 + 2, extnsn)\n",
        "  worksheet.write(row1, col1 + 3, level)\n",
        "  row1 += 1\n",
        "\n",
        "workbook.close()"
      ],
      "metadata": {
        "colab": {
          "base_uri": "https://localhost:8080/",
          "height": 246
        },
        "id": "OLbznZEbypCA",
        "outputId": "dcf5c136-27a5-4cc2-d841-505b7c8d4ae7"
      },
      "execution_count": 30,
      "outputs": [
        {
          "output_type": "error",
          "ename": "TypeError",
          "evalue": "ignored",
          "traceback": [
            "\u001b[0;31m---------------------------------------------------------------------------\u001b[0m",
            "\u001b[0;31mTypeError\u001b[0m                                 Traceback (most recent call last)",
            "\u001b[0;32m<ipython-input-30-cf804bc82c42>\u001b[0m in \u001b[0;36m<module>\u001b[0;34m()\u001b[0m\n\u001b[1;32m     26\u001b[0m \u001b[0;34m\u001b[0m\u001b[0m\n\u001b[1;32m     27\u001b[0m \u001b[0;31m# For 1st column images name and 2nd column folder name\u001b[0m\u001b[0;34m\u001b[0m\u001b[0;34m\u001b[0m\u001b[0;34m\u001b[0m\u001b[0m\n\u001b[0;32m---> 28\u001b[0;31m \u001b[0;32mfor\u001b[0m \u001b[0miname\u001b[0m \u001b[0;32min\u001b[0m \u001b[0msd\u001b[0m\u001b[0;34m:\u001b[0m\u001b[0;34m\u001b[0m\u001b[0;34m\u001b[0m\u001b[0m\n\u001b[0m\u001b[1;32m     29\u001b[0m   \u001b[0;32mfor\u001b[0m \u001b[0mi\u001b[0m \u001b[0;32min\u001b[0m \u001b[0msd\u001b[0m\u001b[0;34m:\u001b[0m\u001b[0;34m\u001b[0m\u001b[0;34m\u001b[0m\u001b[0m\n\u001b[1;32m     30\u001b[0m     \u001b[0;32mif\u001b[0m \u001b[0miname\u001b[0m \u001b[0;34m==\u001b[0m \u001b[0mi\u001b[0m\u001b[0;34m:\u001b[0m\u001b[0;34m\u001b[0m\u001b[0;34m\u001b[0m\u001b[0m\n",
            "\u001b[0;31mTypeError\u001b[0m: 'NoneType' object is not iterable"
          ]
        }
      ]
    },
    {
      "cell_type": "code",
      "source": [
        ""
      ],
      "metadata": {
        "id": "aidgL32xz4VS"
      },
      "execution_count": 201,
      "outputs": []
    },
    {
      "cell_type": "code",
      "source": [
        ""
      ],
      "metadata": {
        "id": "JSGXR7FPz4YD"
      },
      "execution_count": 201,
      "outputs": []
    },
    {
      "cell_type": "code",
      "source": [
        ""
      ],
      "metadata": {
        "id": "06wV2UoKz4au"
      },
      "execution_count": 201,
      "outputs": []
    },
    {
      "cell_type": "code",
      "source": [
        ""
      ],
      "metadata": {
        "id": "R8WUy4pEz4eV"
      },
      "execution_count": 201,
      "outputs": []
    },
    {
      "cell_type": "code",
      "source": [
        ""
      ],
      "metadata": {
        "id": "6-hX8CsjbERD"
      },
      "execution_count": 202,
      "outputs": []
    },
    {
      "cell_type": "code",
      "source": [
        "class GetDirectoryList():\n",
        "    def __init__(self, path):\n",
        "        self.main_path = path\n",
        "        self.absolute_path = []\n",
        "        self.relative_path = []\n",
        "\n",
        "\n",
        "    def get_files_and_folders(self, resp, path):\n",
        "        all = os.listdir(path)\n",
        "        resp[\"files\"] = []\n",
        "        for file_folder in all:\n",
        "            if file_folder != \".\" and file_folder != \"..\":\n",
        "                if os.path.isdir(path + \"/\" + file_folder):\n",
        "                    resp[file_folder] = {}\n",
        "                    self.get_files_and_folders(resp=resp[file_folder], path= path + \"/\" + file_folder)\n",
        "                else:\n",
        "                    resp[\"files\"].append(file_folder)\n",
        "                    self.absolute_path.append(path.replace(self.main_path + \"/\", \"\") + \"/\" + file_folder)\n",
        "                    self.relative_path.append(path + \"/\" + file_folder)\n",
        "        return resp, self.relative_path, self.absolute_path\n",
        "\n",
        "    @property\n",
        "    def get_all_files_folder(self):\n",
        "        self.resp = {self.main_path: {}}\n",
        "        all = self.get_files_and_folders(self.resp[self.main_path], self.main_path)\n",
        "        return all\n",
        "\n",
        "if __name__ == '__main__':\n",
        "    mylib = GetDirectoryList(path=path1)\n",
        "    file_list = mylib.get_all_files_folder\n",
        "    print ((file_list))"
      ],
      "metadata": {
        "colab": {
          "base_uri": "https://localhost:8080/"
        },
        "id": "KZHWAUZiNSgE",
        "outputId": "cb18160e-1c38-4023-9f6a-f3669100931f"
      },
      "execution_count": 203,
      "outputs": [
        {
          "output_type": "stream",
          "name": "stdout",
          "text": [
            "({'files': [], '1': {'files': ['IMG20220610090323.jpg', 'IMG20220610090325_BURST000_COVER.jpg', 'IMG20220610090325_BURST001.jpg', 'IMG20220610090325_BURST002.jpg', 'IMG20220610090325_BURST009.jpg', 'IMG20220610090325_BURST010.jpg', 'IMG20220610090325_BURST011.jpg', 'IMG20220610090325_BURST012.jpg', 'IMG20220610090331.jpg', 'IMG20220610090325_BURST019.jpg', 'IMG20220610090335_BURST000_COVER.jpg', 'IMG20220610090335_BURST017.jpg']}, '2': {'files': ['IMG20220610090259.jpg', 'IMG20220610090300_BURST000_COVER.jpg', 'IMG20220610090300_BURST001.jpg', 'IMG20220610090300_BURST002.jpg', 'IMG20220610090300_BURST003.jpg', 'IMG20220610090300_BURST005.jpg', 'IMG20220610090300_BURST004.jpg', 'IMG20220610090300_BURST006.jpg', 'IMG20220610090300_BURST007.jpg', 'IMG20220610090300_BURST008.jpg', 'IMG20220610090300_BURST009.jpg', 'IMG20220610090300_BURST010.jpg']}, '3': {'files': ['IMG20220610090405.jpg', 'IMG20220610090354.jpg', 'IMG20220610090355_BURST006.jpg', 'IMG20220610090355_BURST001.jpg', 'IMG20220610090355_BURST003.jpg', 'IMG20220610090355_BURST000_COVER.jpg', 'IMG20220610090355_BURST002.jpg', 'IMG20220610090355_BURST008.jpg', 'IMG20220610090355_BURST007.jpg', 'IMG20220610090355_BURST009.jpg', 'IMG20220610090355_BURST004.jpg', 'IMG20220610090355_BURST005.jpg']}, '4': {'files': ['IMG20220610085647.jpg', 'IMG20220610085659.jpg', 'IMG20220610085701_BURST001.jpg', 'IMG20220610085701_BURST000_COVER.jpg', 'IMG20220610085701_BURST002.jpg', 'IMG20220610085701_BURST003.jpg', 'IMG20220610085701_BURST005.jpg', 'IMG20220610085701_BURST004.jpg', 'IMG20220610085703.jpg']}, '5': {'files': ['IMG20220610090538.jpg', 'IMG20220610090539.jpg', 'IMG20220610090540_BURST000_COVER.jpg', 'IMG20220610090540_BURST002.jpg', 'IMG20220610090540_BURST003.jpg', 'IMG20220610090540_BURST004.jpg', 'IMG20220610090540_BURST005.jpg', 'IMG20220610090540_BURST008.jpg', 'IMG20220610090540_BURST006.jpg', 'IMG20220610090540_BURST007.jpg', 'IMG20220610090540_BURST011.jpg', 'IMG20220610090540_BURST012.jpg']}, '6': {'files': ['IMG20220610090231_BURST000_COVER.jpg', 'IMG20220610090238_BURST000_COVER.jpg', 'IMG20220610090247_BURST002.jpg', 'IMG20220610090247_BURST001.jpg', 'IMG20220610090247_BURST003.jpg', 'IMG20220610090247_BURST006.jpg', 'IMG20220610090247_BURST005.jpg', 'IMG20220610090247_BURST004.jpg', 'IMG20220610090247_BURST007.jpg', 'IMG20220610090247_BURST009.jpg', 'IMG20220610090247_BURST008.jpg']}, '7': {'files': ['IMG_20220609_094957_BURST8.jpg', 'IMG_20220609_094957_BURST16.jpg', 'IMG_20220609_094957_BURST17.jpg', 'IMG_20220609_095015_BURST18.jpg', 'IMG_20220609_095015_BURST21.jpg', 'IMG_20220609_095015_BURST20.jpg', 'IMG_20220609_095015_BURST19.jpg', 'IMG_20220609_095015_BURST17.jpg', 'IMG_20220609_095015_BURST12.jpg', 'IMG_20220609_095015_BURST24.jpg', 'IMG_20220609_095015_BURST23.jpg', 'IMG_20220609_095015_BURST22.jpg']}, '8': {'files': ['IMG_20220609_095312_BURST14.jpg', 'IMG_20220609_095312_BURST13.jpg', 'IMG_20220609_095312_BURST20.jpg', 'IMG_20220609_095312_BURST18.jpg', 'IMG_20220609_095312_BURST16.jpg', 'IMG_20220609_095312_BURST21.jpg', 'IMG_20220609_095312_BURST15.jpg', 'IMG_20220609_095312_BURST17.jpg', 'IMG_20220609_095312_BURST19.jpg']}, '9': {'files': ['IMG_20220609_100047_BURST30.jpg', 'IMG_20220609_100047_BURST27.jpg', 'IMG_20220609_100047_BURST28.jpg', 'IMG_20220609_100047_BURST31.jpg', 'IMG_20220609_100047_BURST29.jpg', 'IMG_20220609_100047_BURST32.jpg', 'IMG_20220609_100047_BURST42.jpg', 'IMG_20220609_100216_BURST4.jpg', 'IMG_20220609_100216_BURST8.jpg', 'IMG_20220609_100216_BURST6.jpg', 'IMG_20220609_100216_BURST7.jpg', 'IMG_20220609_100216_BURST5.jpg']}, '10': {'files': ['IMG20220610085917_BURST000_COVER.jpg', 'IMG20220610085917_BURST001.jpg', 'IMG20220610085917_BURST002.jpg', 'IMG20220610085917_BURST004.jpg', 'IMG20220610085917_BURST003.jpg', 'IMG20220610085917_BURST007.jpg', 'IMG20220610085917_BURST006.jpg', 'IMG20220610085917_BURST005.jpg', 'IMG20220610085917_BURST008.jpg', 'IMG20220610085917_BURST009.jpg', 'IMG20220610085917_BURST010.jpg', 'IMG20220610085917_BURST011.jpg']}, '11': {'files': ['IMG20220610085752_BURST000_COVER.jpg', 'IMG20220610085752_BURST002.jpg', 'IMG20220610085752_BURST001.jpg', 'IMG20220610085752_BURST003.jpg', 'IMG20220610085752_BURST004.jpg', 'IMG20220610085752_BURST006.jpg', 'IMG20220610085752_BURST005.jpg', 'IMG20220610085752_BURST009.jpg', 'IMG20220610085752_BURST007.jpg', 'IMG20220610085752_BURST008.jpg', 'IMG20220610085752_BURST010.jpg', 'IMG20220610085758_BURST001.jpg']}, '12': {'files': ['IMG_20220609_100732_BURST2.jpg', 'IMG_20220609_100732_BURST27.jpg', 'IMG_20220609_100732_BURST26.jpg', 'IMG_20220609_100732_BURST39.jpg', 'IMG_20220609_100732_BURST52.jpg', 'IMG_20220609_100732_BURST57.jpg', 'IMG_20220609_100732_BURST56.jpg', 'IMG_20220609_100732_BURST59.jpg', 'IMG_20220609_100732_BURST54.jpg', 'IMG_20220609_100732_BURST53.jpg', 'IMG_20220609_100732_BURST58.jpg', 'IMG_20220609_100732_BURST55.jpg']}, '13': {'files': ['IMG_20220609_101049_BURST1.jpg', 'IMG_20220609_101049_BURST6.jpg', 'IMG_20220609_101049_BURST5.jpg', 'IMG_20220609_101049_BURST7.jpg', 'IMG_20220609_101049_BURST3.jpg', 'IMG_20220609_101049_BURST2.jpg', 'IMG_20220609_101049_BURST4.jpg', 'IMG_20220609_101049_BURST8.jpg', 'IMG_20220609_101049_BURST18.jpg', 'IMG_20220609_101049_BURST19.jpg', 'IMG_20220609_101049_BURST64.jpg', 'IMG_20220609_101049_BURST65.jpg']}, '14': {'files': ['IMG_20220609_101204_BURST2.jpg', 'IMG_20220609_101204_BURST5.jpg', 'IMG_20220609_101204_BURST4.jpg', 'IMG_20220609_101204_BURST7.jpg', 'IMG_20220609_101204_BURST6.jpg', 'IMG_20220609_101204_BURST3.jpg', 'IMG_20220609_101204_BURST8.jpg', 'IMG_20220609_101204_BURST44.jpg', 'IMG_20220609_101204_BURST43.jpg', 'IMG_20220609_101204_BURST45.jpg', 'IMG_20220609_101204_BURST46.jpg', 'IMG_20220609_101204_BURST47.jpg']}, '15': {'files': ['IMG20220610083716.jpg', 'IMG20220610083725_BURST001.jpg', 'IMG20220610083725_BURST002.jpg', 'IMG20220610083725_BURST003.jpg', 'IMG20220610083731.jpg', 'IMG20220610083733_BURST001.jpg', 'IMG20220610083733_BURST000_COVER.jpg', 'IMG20220610083733_BURST003.jpg', 'IMG20220610083733_BURST004.jpg', 'IMG20220610083733_BURST002.jpg', 'IMG20220610083733_BURST006.jpg', 'IMG20220610083733_BURST005.jpg']}, '16': {'files': ['IMG20220610083752_BURST000_COVER.jpg', 'IMG20220610083752_BURST002.jpg', 'IMG20220610083815.jpg', 'IMG20220610083818.jpg', 'IMG20220610083821.jpg', 'IMG20220610083827.jpg', 'IMG20220610083829.jpg', 'IMG20220610083836.jpg', 'IMG20220610083826.jpg']}, '17': {'files': ['IMG_20220609_100529_BURST91.jpg', 'IMG_20220609_100529_BURST88.jpg', 'IMG_20220609_100529_BURST89.jpg', 'IMG_20220609_100529_BURST87.jpg', 'IMG_20220609_100529_BURST86.jpg', 'IMG_20220609_100529_BURST92.jpg', 'IMG_20220609_100529_BURST93.jpg', 'IMG_20220609_100529_BURST90.jpg', 'IMG_20220609_100529_BURST82.jpg', 'IMG_20220609_100529_BURST83.jpg', 'IMG_20220609_100529_BURST85.jpg', 'IMG_20220609_100529_BURST84.jpg']}, '18': {'files': ['IMG_20220609_100429_BURST4.jpg', 'IMG_20220609_100429_BURST3.jpg', 'IMG_20220609_100435_BURST1.jpg', 'IMG_20220609_100435_BURST43.jpg', 'IMG_20220609_100435_BURST42.jpg', 'IMG_20220609_100435_BURST46.jpg', 'IMG_20220609_100435_BURST49.jpg', 'IMG_20220609_100448_BURST60.jpg', 'IMG_20220609_100448_BURST74.jpg', 'IMG_20220609_100448_BURST71.jpg', 'IMG_20220609_100448_BURST72.jpg', 'IMG_20220609_100448_BURST80.jpg']}, '19': {'files': ['IMG20220610085730_BURST000_COVER.jpg', 'IMG20220610085730_BURST005.jpg', 'IMG20220610085730_BURST006.jpg', 'IMG20220610085730_BURST004.jpg', 'IMG20220610085730_BURST009.jpg', 'IMG20220610085730_BURST007.jpg', 'IMG20220610085730_BURST008.jpg', 'IMG20220610085734_BURST000_COVER.jpg', 'IMG20220610085726.jpg', 'IMG20220610085724.jpg']}, '20': {'files': ['IMG_20220609_095654_BURST59.jpg', 'IMG_20220609_095654_BURST60.jpg', 'IMG_20220609_095654_BURST82.jpg', 'IMG_20220609_095654_BURST77.jpg', 'IMG_20220609_095654_BURST81.jpg', 'IMG_20220609_095654_BURST79.jpg', 'IMG_20220609_095654_BURST78.jpg', 'IMG_20220609_095654_BURST83.jpg', 'IMG_20220609_095654_BURST80.jpg', 'IMG_20220609_095654_BURST76.jpg', 'IMG_20220609_095654_BURST75.jpg', 'IMG_20220609_095654_BURST84.jpg']}, '21': {'files': ['IMG20220610090031_BURST000_COVER.jpg', 'IMG20220610090031_BURST001.jpg', 'IMG20220610090031_BURST002.jpg', 'IMG20220610090031_BURST003.jpg', 'IMG20220610090031_BURST004.jpg', 'IMG20220610090031_BURST005.jpg', 'IMG20220610090031_BURST006.jpg', 'IMG20220610090031_BURST007.jpg', 'IMG20220610090031_BURST008.jpg', 'IMG20220610090031_BURST009.jpg', 'IMG20220610090031_BURST010.jpg', 'IMG20220610090031_BURST011.jpg']}, '22': {'files': ['IMG20220610090436.jpg', 'IMG20220610090437.jpg', 'IMG20220610090439_BURST001.jpg', 'IMG20220610090439_BURST000_COVER.jpg', 'IMG20220610090439_BURST002.jpg', 'IMG20220610090439_BURST005.jpg', 'IMG20220610090439_BURST003.jpg', 'IMG20220610090439_BURST004.jpg', 'IMG20220610090439_BURST006.jpg', 'IMG20220610090439_BURST008.jpg', 'IMG20220610090439_BURST007.jpg', 'IMG20220610090439_BURST009.jpg']}}, ['/content/drive/MyDrive/Research/Computer Vision/ImageClassification/Muzzle/1/IMG20220610090323.jpg', '/content/drive/MyDrive/Research/Computer Vision/ImageClassification/Muzzle/1/IMG20220610090325_BURST000_COVER.jpg', '/content/drive/MyDrive/Research/Computer Vision/ImageClassification/Muzzle/1/IMG20220610090325_BURST001.jpg', '/content/drive/MyDrive/Research/Computer Vision/ImageClassification/Muzzle/1/IMG20220610090325_BURST002.jpg', '/content/drive/MyDrive/Research/Computer Vision/ImageClassification/Muzzle/1/IMG20220610090325_BURST009.jpg', '/content/drive/MyDrive/Research/Computer Vision/ImageClassification/Muzzle/1/IMG20220610090325_BURST010.jpg', '/content/drive/MyDrive/Research/Computer Vision/ImageClassification/Muzzle/1/IMG20220610090325_BURST011.jpg', '/content/drive/MyDrive/Research/Computer Vision/ImageClassification/Muzzle/1/IMG20220610090325_BURST012.jpg', '/content/drive/MyDrive/Research/Computer Vision/ImageClassification/Muzzle/1/IMG20220610090331.jpg', '/content/drive/MyDrive/Research/Computer Vision/ImageClassification/Muzzle/1/IMG20220610090325_BURST019.jpg', '/content/drive/MyDrive/Research/Computer Vision/ImageClassification/Muzzle/1/IMG20220610090335_BURST000_COVER.jpg', '/content/drive/MyDrive/Research/Computer Vision/ImageClassification/Muzzle/1/IMG20220610090335_BURST017.jpg', '/content/drive/MyDrive/Research/Computer Vision/ImageClassification/Muzzle/2/IMG20220610090259.jpg', '/content/drive/MyDrive/Research/Computer Vision/ImageClassification/Muzzle/2/IMG20220610090300_BURST000_COVER.jpg', '/content/drive/MyDrive/Research/Computer Vision/ImageClassification/Muzzle/2/IMG20220610090300_BURST001.jpg', '/content/drive/MyDrive/Research/Computer Vision/ImageClassification/Muzzle/2/IMG20220610090300_BURST002.jpg', '/content/drive/MyDrive/Research/Computer Vision/ImageClassification/Muzzle/2/IMG20220610090300_BURST003.jpg', '/content/drive/MyDrive/Research/Computer Vision/ImageClassification/Muzzle/2/IMG20220610090300_BURST005.jpg', '/content/drive/MyDrive/Research/Computer Vision/ImageClassification/Muzzle/2/IMG20220610090300_BURST004.jpg', '/content/drive/MyDrive/Research/Computer Vision/ImageClassification/Muzzle/2/IMG20220610090300_BURST006.jpg', '/content/drive/MyDrive/Research/Computer Vision/ImageClassification/Muzzle/2/IMG20220610090300_BURST007.jpg', '/content/drive/MyDrive/Research/Computer Vision/ImageClassification/Muzzle/2/IMG20220610090300_BURST008.jpg', '/content/drive/MyDrive/Research/Computer Vision/ImageClassification/Muzzle/2/IMG20220610090300_BURST009.jpg', '/content/drive/MyDrive/Research/Computer Vision/ImageClassification/Muzzle/2/IMG20220610090300_BURST010.jpg', '/content/drive/MyDrive/Research/Computer Vision/ImageClassification/Muzzle/3/IMG20220610090405.jpg', '/content/drive/MyDrive/Research/Computer Vision/ImageClassification/Muzzle/3/IMG20220610090354.jpg', '/content/drive/MyDrive/Research/Computer Vision/ImageClassification/Muzzle/3/IMG20220610090355_BURST006.jpg', '/content/drive/MyDrive/Research/Computer Vision/ImageClassification/Muzzle/3/IMG20220610090355_BURST001.jpg', '/content/drive/MyDrive/Research/Computer Vision/ImageClassification/Muzzle/3/IMG20220610090355_BURST003.jpg', '/content/drive/MyDrive/Research/Computer Vision/ImageClassification/Muzzle/3/IMG20220610090355_BURST000_COVER.jpg', '/content/drive/MyDrive/Research/Computer Vision/ImageClassification/Muzzle/3/IMG20220610090355_BURST002.jpg', '/content/drive/MyDrive/Research/Computer Vision/ImageClassification/Muzzle/3/IMG20220610090355_BURST008.jpg', '/content/drive/MyDrive/Research/Computer Vision/ImageClassification/Muzzle/3/IMG20220610090355_BURST007.jpg', '/content/drive/MyDrive/Research/Computer Vision/ImageClassification/Muzzle/3/IMG20220610090355_BURST009.jpg', '/content/drive/MyDrive/Research/Computer Vision/ImageClassification/Muzzle/3/IMG20220610090355_BURST004.jpg', '/content/drive/MyDrive/Research/Computer Vision/ImageClassification/Muzzle/3/IMG20220610090355_BURST005.jpg', '/content/drive/MyDrive/Research/Computer Vision/ImageClassification/Muzzle/4/IMG20220610085647.jpg', '/content/drive/MyDrive/Research/Computer Vision/ImageClassification/Muzzle/4/IMG20220610085659.jpg', '/content/drive/MyDrive/Research/Computer Vision/ImageClassification/Muzzle/4/IMG20220610085701_BURST001.jpg', '/content/drive/MyDrive/Research/Computer Vision/ImageClassification/Muzzle/4/IMG20220610085701_BURST000_COVER.jpg', '/content/drive/MyDrive/Research/Computer Vision/ImageClassification/Muzzle/4/IMG20220610085701_BURST002.jpg', '/content/drive/MyDrive/Research/Computer Vision/ImageClassification/Muzzle/4/IMG20220610085701_BURST003.jpg', '/content/drive/MyDrive/Research/Computer Vision/ImageClassification/Muzzle/4/IMG20220610085701_BURST005.jpg', '/content/drive/MyDrive/Research/Computer Vision/ImageClassification/Muzzle/4/IMG20220610085701_BURST004.jpg', '/content/drive/MyDrive/Research/Computer Vision/ImageClassification/Muzzle/4/IMG20220610085703.jpg', '/content/drive/MyDrive/Research/Computer Vision/ImageClassification/Muzzle/5/IMG20220610090538.jpg', '/content/drive/MyDrive/Research/Computer Vision/ImageClassification/Muzzle/5/IMG20220610090539.jpg', '/content/drive/MyDrive/Research/Computer Vision/ImageClassification/Muzzle/5/IMG20220610090540_BURST000_COVER.jpg', '/content/drive/MyDrive/Research/Computer Vision/ImageClassification/Muzzle/5/IMG20220610090540_BURST002.jpg', '/content/drive/MyDrive/Research/Computer Vision/ImageClassification/Muzzle/5/IMG20220610090540_BURST003.jpg', '/content/drive/MyDrive/Research/Computer Vision/ImageClassification/Muzzle/5/IMG20220610090540_BURST004.jpg', '/content/drive/MyDrive/Research/Computer Vision/ImageClassification/Muzzle/5/IMG20220610090540_BURST005.jpg', '/content/drive/MyDrive/Research/Computer Vision/ImageClassification/Muzzle/5/IMG20220610090540_BURST008.jpg', '/content/drive/MyDrive/Research/Computer Vision/ImageClassification/Muzzle/5/IMG20220610090540_BURST006.jpg', '/content/drive/MyDrive/Research/Computer Vision/ImageClassification/Muzzle/5/IMG20220610090540_BURST007.jpg', '/content/drive/MyDrive/Research/Computer Vision/ImageClassification/Muzzle/5/IMG20220610090540_BURST011.jpg', '/content/drive/MyDrive/Research/Computer Vision/ImageClassification/Muzzle/5/IMG20220610090540_BURST012.jpg', '/content/drive/MyDrive/Research/Computer Vision/ImageClassification/Muzzle/6/IMG20220610090231_BURST000_COVER.jpg', '/content/drive/MyDrive/Research/Computer Vision/ImageClassification/Muzzle/6/IMG20220610090238_BURST000_COVER.jpg', '/content/drive/MyDrive/Research/Computer Vision/ImageClassification/Muzzle/6/IMG20220610090247_BURST002.jpg', '/content/drive/MyDrive/Research/Computer Vision/ImageClassification/Muzzle/6/IMG20220610090247_BURST001.jpg', '/content/drive/MyDrive/Research/Computer Vision/ImageClassification/Muzzle/6/IMG20220610090247_BURST003.jpg', '/content/drive/MyDrive/Research/Computer Vision/ImageClassification/Muzzle/6/IMG20220610090247_BURST006.jpg', '/content/drive/MyDrive/Research/Computer Vision/ImageClassification/Muzzle/6/IMG20220610090247_BURST005.jpg', '/content/drive/MyDrive/Research/Computer Vision/ImageClassification/Muzzle/6/IMG20220610090247_BURST004.jpg', '/content/drive/MyDrive/Research/Computer Vision/ImageClassification/Muzzle/6/IMG20220610090247_BURST007.jpg', '/content/drive/MyDrive/Research/Computer Vision/ImageClassification/Muzzle/6/IMG20220610090247_BURST009.jpg', '/content/drive/MyDrive/Research/Computer Vision/ImageClassification/Muzzle/6/IMG20220610090247_BURST008.jpg', '/content/drive/MyDrive/Research/Computer Vision/ImageClassification/Muzzle/7/IMG_20220609_094957_BURST8.jpg', '/content/drive/MyDrive/Research/Computer Vision/ImageClassification/Muzzle/7/IMG_20220609_094957_BURST16.jpg', '/content/drive/MyDrive/Research/Computer Vision/ImageClassification/Muzzle/7/IMG_20220609_094957_BURST17.jpg', '/content/drive/MyDrive/Research/Computer Vision/ImageClassification/Muzzle/7/IMG_20220609_095015_BURST18.jpg', '/content/drive/MyDrive/Research/Computer Vision/ImageClassification/Muzzle/7/IMG_20220609_095015_BURST21.jpg', '/content/drive/MyDrive/Research/Computer Vision/ImageClassification/Muzzle/7/IMG_20220609_095015_BURST20.jpg', '/content/drive/MyDrive/Research/Computer Vision/ImageClassification/Muzzle/7/IMG_20220609_095015_BURST19.jpg', '/content/drive/MyDrive/Research/Computer Vision/ImageClassification/Muzzle/7/IMG_20220609_095015_BURST17.jpg', '/content/drive/MyDrive/Research/Computer Vision/ImageClassification/Muzzle/7/IMG_20220609_095015_BURST12.jpg', '/content/drive/MyDrive/Research/Computer Vision/ImageClassification/Muzzle/7/IMG_20220609_095015_BURST24.jpg', '/content/drive/MyDrive/Research/Computer Vision/ImageClassification/Muzzle/7/IMG_20220609_095015_BURST23.jpg', '/content/drive/MyDrive/Research/Computer Vision/ImageClassification/Muzzle/7/IMG_20220609_095015_BURST22.jpg', '/content/drive/MyDrive/Research/Computer Vision/ImageClassification/Muzzle/8/IMG_20220609_095312_BURST14.jpg', '/content/drive/MyDrive/Research/Computer Vision/ImageClassification/Muzzle/8/IMG_20220609_095312_BURST13.jpg', '/content/drive/MyDrive/Research/Computer Vision/ImageClassification/Muzzle/8/IMG_20220609_095312_BURST20.jpg', '/content/drive/MyDrive/Research/Computer Vision/ImageClassification/Muzzle/8/IMG_20220609_095312_BURST18.jpg', '/content/drive/MyDrive/Research/Computer Vision/ImageClassification/Muzzle/8/IMG_20220609_095312_BURST16.jpg', '/content/drive/MyDrive/Research/Computer Vision/ImageClassification/Muzzle/8/IMG_20220609_095312_BURST21.jpg', '/content/drive/MyDrive/Research/Computer Vision/ImageClassification/Muzzle/8/IMG_20220609_095312_BURST15.jpg', '/content/drive/MyDrive/Research/Computer Vision/ImageClassification/Muzzle/8/IMG_20220609_095312_BURST17.jpg', '/content/drive/MyDrive/Research/Computer Vision/ImageClassification/Muzzle/8/IMG_20220609_095312_BURST19.jpg', '/content/drive/MyDrive/Research/Computer Vision/ImageClassification/Muzzle/9/IMG_20220609_100047_BURST30.jpg', '/content/drive/MyDrive/Research/Computer Vision/ImageClassification/Muzzle/9/IMG_20220609_100047_BURST27.jpg', '/content/drive/MyDrive/Research/Computer Vision/ImageClassification/Muzzle/9/IMG_20220609_100047_BURST28.jpg', '/content/drive/MyDrive/Research/Computer Vision/ImageClassification/Muzzle/9/IMG_20220609_100047_BURST31.jpg', '/content/drive/MyDrive/Research/Computer Vision/ImageClassification/Muzzle/9/IMG_20220609_100047_BURST29.jpg', '/content/drive/MyDrive/Research/Computer Vision/ImageClassification/Muzzle/9/IMG_20220609_100047_BURST32.jpg', '/content/drive/MyDrive/Research/Computer Vision/ImageClassification/Muzzle/9/IMG_20220609_100047_BURST42.jpg', '/content/drive/MyDrive/Research/Computer Vision/ImageClassification/Muzzle/9/IMG_20220609_100216_BURST4.jpg', '/content/drive/MyDrive/Research/Computer Vision/ImageClassification/Muzzle/9/IMG_20220609_100216_BURST8.jpg', '/content/drive/MyDrive/Research/Computer Vision/ImageClassification/Muzzle/9/IMG_20220609_100216_BURST6.jpg', '/content/drive/MyDrive/Research/Computer Vision/ImageClassification/Muzzle/9/IMG_20220609_100216_BURST7.jpg', '/content/drive/MyDrive/Research/Computer Vision/ImageClassification/Muzzle/9/IMG_20220609_100216_BURST5.jpg', '/content/drive/MyDrive/Research/Computer Vision/ImageClassification/Muzzle/10/IMG20220610085917_BURST000_COVER.jpg', '/content/drive/MyDrive/Research/Computer Vision/ImageClassification/Muzzle/10/IMG20220610085917_BURST001.jpg', '/content/drive/MyDrive/Research/Computer Vision/ImageClassification/Muzzle/10/IMG20220610085917_BURST002.jpg', '/content/drive/MyDrive/Research/Computer Vision/ImageClassification/Muzzle/10/IMG20220610085917_BURST004.jpg', '/content/drive/MyDrive/Research/Computer Vision/ImageClassification/Muzzle/10/IMG20220610085917_BURST003.jpg', '/content/drive/MyDrive/Research/Computer Vision/ImageClassification/Muzzle/10/IMG20220610085917_BURST007.jpg', '/content/drive/MyDrive/Research/Computer Vision/ImageClassification/Muzzle/10/IMG20220610085917_BURST006.jpg', '/content/drive/MyDrive/Research/Computer Vision/ImageClassification/Muzzle/10/IMG20220610085917_BURST005.jpg', '/content/drive/MyDrive/Research/Computer Vision/ImageClassification/Muzzle/10/IMG20220610085917_BURST008.jpg', '/content/drive/MyDrive/Research/Computer Vision/ImageClassification/Muzzle/10/IMG20220610085917_BURST009.jpg', '/content/drive/MyDrive/Research/Computer Vision/ImageClassification/Muzzle/10/IMG20220610085917_BURST010.jpg', '/content/drive/MyDrive/Research/Computer Vision/ImageClassification/Muzzle/10/IMG20220610085917_BURST011.jpg', '/content/drive/MyDrive/Research/Computer Vision/ImageClassification/Muzzle/11/IMG20220610085752_BURST000_COVER.jpg', '/content/drive/MyDrive/Research/Computer Vision/ImageClassification/Muzzle/11/IMG20220610085752_BURST002.jpg', '/content/drive/MyDrive/Research/Computer Vision/ImageClassification/Muzzle/11/IMG20220610085752_BURST001.jpg', '/content/drive/MyDrive/Research/Computer Vision/ImageClassification/Muzzle/11/IMG20220610085752_BURST003.jpg', '/content/drive/MyDrive/Research/Computer Vision/ImageClassification/Muzzle/11/IMG20220610085752_BURST004.jpg', '/content/drive/MyDrive/Research/Computer Vision/ImageClassification/Muzzle/11/IMG20220610085752_BURST006.jpg', '/content/drive/MyDrive/Research/Computer Vision/ImageClassification/Muzzle/11/IMG20220610085752_BURST005.jpg', '/content/drive/MyDrive/Research/Computer Vision/ImageClassification/Muzzle/11/IMG20220610085752_BURST009.jpg', '/content/drive/MyDrive/Research/Computer Vision/ImageClassification/Muzzle/11/IMG20220610085752_BURST007.jpg', '/content/drive/MyDrive/Research/Computer Vision/ImageClassification/Muzzle/11/IMG20220610085752_BURST008.jpg', '/content/drive/MyDrive/Research/Computer Vision/ImageClassification/Muzzle/11/IMG20220610085752_BURST010.jpg', '/content/drive/MyDrive/Research/Computer Vision/ImageClassification/Muzzle/11/IMG20220610085758_BURST001.jpg', '/content/drive/MyDrive/Research/Computer Vision/ImageClassification/Muzzle/12/IMG_20220609_100732_BURST2.jpg', '/content/drive/MyDrive/Research/Computer Vision/ImageClassification/Muzzle/12/IMG_20220609_100732_BURST27.jpg', '/content/drive/MyDrive/Research/Computer Vision/ImageClassification/Muzzle/12/IMG_20220609_100732_BURST26.jpg', '/content/drive/MyDrive/Research/Computer Vision/ImageClassification/Muzzle/12/IMG_20220609_100732_BURST39.jpg', '/content/drive/MyDrive/Research/Computer Vision/ImageClassification/Muzzle/12/IMG_20220609_100732_BURST52.jpg', '/content/drive/MyDrive/Research/Computer Vision/ImageClassification/Muzzle/12/IMG_20220609_100732_BURST57.jpg', '/content/drive/MyDrive/Research/Computer Vision/ImageClassification/Muzzle/12/IMG_20220609_100732_BURST56.jpg', '/content/drive/MyDrive/Research/Computer Vision/ImageClassification/Muzzle/12/IMG_20220609_100732_BURST59.jpg', '/content/drive/MyDrive/Research/Computer Vision/ImageClassification/Muzzle/12/IMG_20220609_100732_BURST54.jpg', '/content/drive/MyDrive/Research/Computer Vision/ImageClassification/Muzzle/12/IMG_20220609_100732_BURST53.jpg', '/content/drive/MyDrive/Research/Computer Vision/ImageClassification/Muzzle/12/IMG_20220609_100732_BURST58.jpg', '/content/drive/MyDrive/Research/Computer Vision/ImageClassification/Muzzle/12/IMG_20220609_100732_BURST55.jpg', '/content/drive/MyDrive/Research/Computer Vision/ImageClassification/Muzzle/13/IMG_20220609_101049_BURST1.jpg', '/content/drive/MyDrive/Research/Computer Vision/ImageClassification/Muzzle/13/IMG_20220609_101049_BURST6.jpg', '/content/drive/MyDrive/Research/Computer Vision/ImageClassification/Muzzle/13/IMG_20220609_101049_BURST5.jpg', '/content/drive/MyDrive/Research/Computer Vision/ImageClassification/Muzzle/13/IMG_20220609_101049_BURST7.jpg', '/content/drive/MyDrive/Research/Computer Vision/ImageClassification/Muzzle/13/IMG_20220609_101049_BURST3.jpg', '/content/drive/MyDrive/Research/Computer Vision/ImageClassification/Muzzle/13/IMG_20220609_101049_BURST2.jpg', '/content/drive/MyDrive/Research/Computer Vision/ImageClassification/Muzzle/13/IMG_20220609_101049_BURST4.jpg', '/content/drive/MyDrive/Research/Computer Vision/ImageClassification/Muzzle/13/IMG_20220609_101049_BURST8.jpg', '/content/drive/MyDrive/Research/Computer Vision/ImageClassification/Muzzle/13/IMG_20220609_101049_BURST18.jpg', '/content/drive/MyDrive/Research/Computer Vision/ImageClassification/Muzzle/13/IMG_20220609_101049_BURST19.jpg', '/content/drive/MyDrive/Research/Computer Vision/ImageClassification/Muzzle/13/IMG_20220609_101049_BURST64.jpg', '/content/drive/MyDrive/Research/Computer Vision/ImageClassification/Muzzle/13/IMG_20220609_101049_BURST65.jpg', '/content/drive/MyDrive/Research/Computer Vision/ImageClassification/Muzzle/14/IMG_20220609_101204_BURST2.jpg', '/content/drive/MyDrive/Research/Computer Vision/ImageClassification/Muzzle/14/IMG_20220609_101204_BURST5.jpg', '/content/drive/MyDrive/Research/Computer Vision/ImageClassification/Muzzle/14/IMG_20220609_101204_BURST4.jpg', '/content/drive/MyDrive/Research/Computer Vision/ImageClassification/Muzzle/14/IMG_20220609_101204_BURST7.jpg', '/content/drive/MyDrive/Research/Computer Vision/ImageClassification/Muzzle/14/IMG_20220609_101204_BURST6.jpg', '/content/drive/MyDrive/Research/Computer Vision/ImageClassification/Muzzle/14/IMG_20220609_101204_BURST3.jpg', '/content/drive/MyDrive/Research/Computer Vision/ImageClassification/Muzzle/14/IMG_20220609_101204_BURST8.jpg', '/content/drive/MyDrive/Research/Computer Vision/ImageClassification/Muzzle/14/IMG_20220609_101204_BURST44.jpg', '/content/drive/MyDrive/Research/Computer Vision/ImageClassification/Muzzle/14/IMG_20220609_101204_BURST43.jpg', '/content/drive/MyDrive/Research/Computer Vision/ImageClassification/Muzzle/14/IMG_20220609_101204_BURST45.jpg', '/content/drive/MyDrive/Research/Computer Vision/ImageClassification/Muzzle/14/IMG_20220609_101204_BURST46.jpg', '/content/drive/MyDrive/Research/Computer Vision/ImageClassification/Muzzle/14/IMG_20220609_101204_BURST47.jpg', '/content/drive/MyDrive/Research/Computer Vision/ImageClassification/Muzzle/15/IMG20220610083716.jpg', '/content/drive/MyDrive/Research/Computer Vision/ImageClassification/Muzzle/15/IMG20220610083725_BURST001.jpg', '/content/drive/MyDrive/Research/Computer Vision/ImageClassification/Muzzle/15/IMG20220610083725_BURST002.jpg', '/content/drive/MyDrive/Research/Computer Vision/ImageClassification/Muzzle/15/IMG20220610083725_BURST003.jpg', '/content/drive/MyDrive/Research/Computer Vision/ImageClassification/Muzzle/15/IMG20220610083731.jpg', '/content/drive/MyDrive/Research/Computer Vision/ImageClassification/Muzzle/15/IMG20220610083733_BURST001.jpg', '/content/drive/MyDrive/Research/Computer Vision/ImageClassification/Muzzle/15/IMG20220610083733_BURST000_COVER.jpg', '/content/drive/MyDrive/Research/Computer Vision/ImageClassification/Muzzle/15/IMG20220610083733_BURST003.jpg', '/content/drive/MyDrive/Research/Computer Vision/ImageClassification/Muzzle/15/IMG20220610083733_BURST004.jpg', '/content/drive/MyDrive/Research/Computer Vision/ImageClassification/Muzzle/15/IMG20220610083733_BURST002.jpg', '/content/drive/MyDrive/Research/Computer Vision/ImageClassification/Muzzle/15/IMG20220610083733_BURST006.jpg', '/content/drive/MyDrive/Research/Computer Vision/ImageClassification/Muzzle/15/IMG20220610083733_BURST005.jpg', '/content/drive/MyDrive/Research/Computer Vision/ImageClassification/Muzzle/16/IMG20220610083752_BURST000_COVER.jpg', '/content/drive/MyDrive/Research/Computer Vision/ImageClassification/Muzzle/16/IMG20220610083752_BURST002.jpg', '/content/drive/MyDrive/Research/Computer Vision/ImageClassification/Muzzle/16/IMG20220610083815.jpg', '/content/drive/MyDrive/Research/Computer Vision/ImageClassification/Muzzle/16/IMG20220610083818.jpg', '/content/drive/MyDrive/Research/Computer Vision/ImageClassification/Muzzle/16/IMG20220610083821.jpg', '/content/drive/MyDrive/Research/Computer Vision/ImageClassification/Muzzle/16/IMG20220610083827.jpg', '/content/drive/MyDrive/Research/Computer Vision/ImageClassification/Muzzle/16/IMG20220610083829.jpg', '/content/drive/MyDrive/Research/Computer Vision/ImageClassification/Muzzle/16/IMG20220610083836.jpg', '/content/drive/MyDrive/Research/Computer Vision/ImageClassification/Muzzle/16/IMG20220610083826.jpg', '/content/drive/MyDrive/Research/Computer Vision/ImageClassification/Muzzle/17/IMG_20220609_100529_BURST91.jpg', '/content/drive/MyDrive/Research/Computer Vision/ImageClassification/Muzzle/17/IMG_20220609_100529_BURST88.jpg', '/content/drive/MyDrive/Research/Computer Vision/ImageClassification/Muzzle/17/IMG_20220609_100529_BURST89.jpg', '/content/drive/MyDrive/Research/Computer Vision/ImageClassification/Muzzle/17/IMG_20220609_100529_BURST87.jpg', '/content/drive/MyDrive/Research/Computer Vision/ImageClassification/Muzzle/17/IMG_20220609_100529_BURST86.jpg', '/content/drive/MyDrive/Research/Computer Vision/ImageClassification/Muzzle/17/IMG_20220609_100529_BURST92.jpg', '/content/drive/MyDrive/Research/Computer Vision/ImageClassification/Muzzle/17/IMG_20220609_100529_BURST93.jpg', '/content/drive/MyDrive/Research/Computer Vision/ImageClassification/Muzzle/17/IMG_20220609_100529_BURST90.jpg', '/content/drive/MyDrive/Research/Computer Vision/ImageClassification/Muzzle/17/IMG_20220609_100529_BURST82.jpg', '/content/drive/MyDrive/Research/Computer Vision/ImageClassification/Muzzle/17/IMG_20220609_100529_BURST83.jpg', '/content/drive/MyDrive/Research/Computer Vision/ImageClassification/Muzzle/17/IMG_20220609_100529_BURST85.jpg', '/content/drive/MyDrive/Research/Computer Vision/ImageClassification/Muzzle/17/IMG_20220609_100529_BURST84.jpg', '/content/drive/MyDrive/Research/Computer Vision/ImageClassification/Muzzle/18/IMG_20220609_100429_BURST4.jpg', '/content/drive/MyDrive/Research/Computer Vision/ImageClassification/Muzzle/18/IMG_20220609_100429_BURST3.jpg', '/content/drive/MyDrive/Research/Computer Vision/ImageClassification/Muzzle/18/IMG_20220609_100435_BURST1.jpg', '/content/drive/MyDrive/Research/Computer Vision/ImageClassification/Muzzle/18/IMG_20220609_100435_BURST43.jpg', '/content/drive/MyDrive/Research/Computer Vision/ImageClassification/Muzzle/18/IMG_20220609_100435_BURST42.jpg', '/content/drive/MyDrive/Research/Computer Vision/ImageClassification/Muzzle/18/IMG_20220609_100435_BURST46.jpg', '/content/drive/MyDrive/Research/Computer Vision/ImageClassification/Muzzle/18/IMG_20220609_100435_BURST49.jpg', '/content/drive/MyDrive/Research/Computer Vision/ImageClassification/Muzzle/18/IMG_20220609_100448_BURST60.jpg', '/content/drive/MyDrive/Research/Computer Vision/ImageClassification/Muzzle/18/IMG_20220609_100448_BURST74.jpg', '/content/drive/MyDrive/Research/Computer Vision/ImageClassification/Muzzle/18/IMG_20220609_100448_BURST71.jpg', '/content/drive/MyDrive/Research/Computer Vision/ImageClassification/Muzzle/18/IMG_20220609_100448_BURST72.jpg', '/content/drive/MyDrive/Research/Computer Vision/ImageClassification/Muzzle/18/IMG_20220609_100448_BURST80.jpg', '/content/drive/MyDrive/Research/Computer Vision/ImageClassification/Muzzle/19/IMG20220610085730_BURST000_COVER.jpg', '/content/drive/MyDrive/Research/Computer Vision/ImageClassification/Muzzle/19/IMG20220610085730_BURST005.jpg', '/content/drive/MyDrive/Research/Computer Vision/ImageClassification/Muzzle/19/IMG20220610085730_BURST006.jpg', '/content/drive/MyDrive/Research/Computer Vision/ImageClassification/Muzzle/19/IMG20220610085730_BURST004.jpg', '/content/drive/MyDrive/Research/Computer Vision/ImageClassification/Muzzle/19/IMG20220610085730_BURST009.jpg', '/content/drive/MyDrive/Research/Computer Vision/ImageClassification/Muzzle/19/IMG20220610085730_BURST007.jpg', '/content/drive/MyDrive/Research/Computer Vision/ImageClassification/Muzzle/19/IMG20220610085730_BURST008.jpg', '/content/drive/MyDrive/Research/Computer Vision/ImageClassification/Muzzle/19/IMG20220610085734_BURST000_COVER.jpg', '/content/drive/MyDrive/Research/Computer Vision/ImageClassification/Muzzle/19/IMG20220610085726.jpg', '/content/drive/MyDrive/Research/Computer Vision/ImageClassification/Muzzle/19/IMG20220610085724.jpg', '/content/drive/MyDrive/Research/Computer Vision/ImageClassification/Muzzle/20/IMG_20220609_095654_BURST59.jpg', '/content/drive/MyDrive/Research/Computer Vision/ImageClassification/Muzzle/20/IMG_20220609_095654_BURST60.jpg', '/content/drive/MyDrive/Research/Computer Vision/ImageClassification/Muzzle/20/IMG_20220609_095654_BURST82.jpg', '/content/drive/MyDrive/Research/Computer Vision/ImageClassification/Muzzle/20/IMG_20220609_095654_BURST77.jpg', '/content/drive/MyDrive/Research/Computer Vision/ImageClassification/Muzzle/20/IMG_20220609_095654_BURST81.jpg', '/content/drive/MyDrive/Research/Computer Vision/ImageClassification/Muzzle/20/IMG_20220609_095654_BURST79.jpg', '/content/drive/MyDrive/Research/Computer Vision/ImageClassification/Muzzle/20/IMG_20220609_095654_BURST78.jpg', '/content/drive/MyDrive/Research/Computer Vision/ImageClassification/Muzzle/20/IMG_20220609_095654_BURST83.jpg', '/content/drive/MyDrive/Research/Computer Vision/ImageClassification/Muzzle/20/IMG_20220609_095654_BURST80.jpg', '/content/drive/MyDrive/Research/Computer Vision/ImageClassification/Muzzle/20/IMG_20220609_095654_BURST76.jpg', '/content/drive/MyDrive/Research/Computer Vision/ImageClassification/Muzzle/20/IMG_20220609_095654_BURST75.jpg', '/content/drive/MyDrive/Research/Computer Vision/ImageClassification/Muzzle/20/IMG_20220609_095654_BURST84.jpg', '/content/drive/MyDrive/Research/Computer Vision/ImageClassification/Muzzle/21/IMG20220610090031_BURST000_COVER.jpg', '/content/drive/MyDrive/Research/Computer Vision/ImageClassification/Muzzle/21/IMG20220610090031_BURST001.jpg', '/content/drive/MyDrive/Research/Computer Vision/ImageClassification/Muzzle/21/IMG20220610090031_BURST002.jpg', '/content/drive/MyDrive/Research/Computer Vision/ImageClassification/Muzzle/21/IMG20220610090031_BURST003.jpg', '/content/drive/MyDrive/Research/Computer Vision/ImageClassification/Muzzle/21/IMG20220610090031_BURST004.jpg', '/content/drive/MyDrive/Research/Computer Vision/ImageClassification/Muzzle/21/IMG20220610090031_BURST005.jpg', '/content/drive/MyDrive/Research/Computer Vision/ImageClassification/Muzzle/21/IMG20220610090031_BURST006.jpg', '/content/drive/MyDrive/Research/Computer Vision/ImageClassification/Muzzle/21/IMG20220610090031_BURST007.jpg', '/content/drive/MyDrive/Research/Computer Vision/ImageClassification/Muzzle/21/IMG20220610090031_BURST008.jpg', '/content/drive/MyDrive/Research/Computer Vision/ImageClassification/Muzzle/21/IMG20220610090031_BURST009.jpg', '/content/drive/MyDrive/Research/Computer Vision/ImageClassification/Muzzle/21/IMG20220610090031_BURST010.jpg', '/content/drive/MyDrive/Research/Computer Vision/ImageClassification/Muzzle/21/IMG20220610090031_BURST011.jpg', '/content/drive/MyDrive/Research/Computer Vision/ImageClassification/Muzzle/22/IMG20220610090436.jpg', '/content/drive/MyDrive/Research/Computer Vision/ImageClassification/Muzzle/22/IMG20220610090437.jpg', '/content/drive/MyDrive/Research/Computer Vision/ImageClassification/Muzzle/22/IMG20220610090439_BURST001.jpg', '/content/drive/MyDrive/Research/Computer Vision/ImageClassification/Muzzle/22/IMG20220610090439_BURST000_COVER.jpg', '/content/drive/MyDrive/Research/Computer Vision/ImageClassification/Muzzle/22/IMG20220610090439_BURST002.jpg', '/content/drive/MyDrive/Research/Computer Vision/ImageClassification/Muzzle/22/IMG20220610090439_BURST005.jpg', '/content/drive/MyDrive/Research/Computer Vision/ImageClassification/Muzzle/22/IMG20220610090439_BURST003.jpg', '/content/drive/MyDrive/Research/Computer Vision/ImageClassification/Muzzle/22/IMG20220610090439_BURST004.jpg', '/content/drive/MyDrive/Research/Computer Vision/ImageClassification/Muzzle/22/IMG20220610090439_BURST006.jpg', '/content/drive/MyDrive/Research/Computer Vision/ImageClassification/Muzzle/22/IMG20220610090439_BURST008.jpg', '/content/drive/MyDrive/Research/Computer Vision/ImageClassification/Muzzle/22/IMG20220610090439_BURST007.jpg', '/content/drive/MyDrive/Research/Computer Vision/ImageClassification/Muzzle/22/IMG20220610090439_BURST009.jpg'], ['1/IMG20220610090323.jpg', '1/IMG20220610090325_BURST000_COVER.jpg', '1/IMG20220610090325_BURST001.jpg', '1/IMG20220610090325_BURST002.jpg', '1/IMG20220610090325_BURST009.jpg', '1/IMG20220610090325_BURST010.jpg', '1/IMG20220610090325_BURST011.jpg', '1/IMG20220610090325_BURST012.jpg', '1/IMG20220610090331.jpg', '1/IMG20220610090325_BURST019.jpg', '1/IMG20220610090335_BURST000_COVER.jpg', '1/IMG20220610090335_BURST017.jpg', '2/IMG20220610090259.jpg', '2/IMG20220610090300_BURST000_COVER.jpg', '2/IMG20220610090300_BURST001.jpg', '2/IMG20220610090300_BURST002.jpg', '2/IMG20220610090300_BURST003.jpg', '2/IMG20220610090300_BURST005.jpg', '2/IMG20220610090300_BURST004.jpg', '2/IMG20220610090300_BURST006.jpg', '2/IMG20220610090300_BURST007.jpg', '2/IMG20220610090300_BURST008.jpg', '2/IMG20220610090300_BURST009.jpg', '2/IMG20220610090300_BURST010.jpg', '3/IMG20220610090405.jpg', '3/IMG20220610090354.jpg', '3/IMG20220610090355_BURST006.jpg', '3/IMG20220610090355_BURST001.jpg', '3/IMG20220610090355_BURST003.jpg', '3/IMG20220610090355_BURST000_COVER.jpg', '3/IMG20220610090355_BURST002.jpg', '3/IMG20220610090355_BURST008.jpg', '3/IMG20220610090355_BURST007.jpg', '3/IMG20220610090355_BURST009.jpg', '3/IMG20220610090355_BURST004.jpg', '3/IMG20220610090355_BURST005.jpg', '4/IMG20220610085647.jpg', '4/IMG20220610085659.jpg', '4/IMG20220610085701_BURST001.jpg', '4/IMG20220610085701_BURST000_COVER.jpg', '4/IMG20220610085701_BURST002.jpg', '4/IMG20220610085701_BURST003.jpg', '4/IMG20220610085701_BURST005.jpg', '4/IMG20220610085701_BURST004.jpg', '4/IMG20220610085703.jpg', '5/IMG20220610090538.jpg', '5/IMG20220610090539.jpg', '5/IMG20220610090540_BURST000_COVER.jpg', '5/IMG20220610090540_BURST002.jpg', '5/IMG20220610090540_BURST003.jpg', '5/IMG20220610090540_BURST004.jpg', '5/IMG20220610090540_BURST005.jpg', '5/IMG20220610090540_BURST008.jpg', '5/IMG20220610090540_BURST006.jpg', '5/IMG20220610090540_BURST007.jpg', '5/IMG20220610090540_BURST011.jpg', '5/IMG20220610090540_BURST012.jpg', '6/IMG20220610090231_BURST000_COVER.jpg', '6/IMG20220610090238_BURST000_COVER.jpg', '6/IMG20220610090247_BURST002.jpg', '6/IMG20220610090247_BURST001.jpg', '6/IMG20220610090247_BURST003.jpg', '6/IMG20220610090247_BURST006.jpg', '6/IMG20220610090247_BURST005.jpg', '6/IMG20220610090247_BURST004.jpg', '6/IMG20220610090247_BURST007.jpg', '6/IMG20220610090247_BURST009.jpg', '6/IMG20220610090247_BURST008.jpg', '7/IMG_20220609_094957_BURST8.jpg', '7/IMG_20220609_094957_BURST16.jpg', '7/IMG_20220609_094957_BURST17.jpg', '7/IMG_20220609_095015_BURST18.jpg', '7/IMG_20220609_095015_BURST21.jpg', '7/IMG_20220609_095015_BURST20.jpg', '7/IMG_20220609_095015_BURST19.jpg', '7/IMG_20220609_095015_BURST17.jpg', '7/IMG_20220609_095015_BURST12.jpg', '7/IMG_20220609_095015_BURST24.jpg', '7/IMG_20220609_095015_BURST23.jpg', '7/IMG_20220609_095015_BURST22.jpg', '8/IMG_20220609_095312_BURST14.jpg', '8/IMG_20220609_095312_BURST13.jpg', '8/IMG_20220609_095312_BURST20.jpg', '8/IMG_20220609_095312_BURST18.jpg', '8/IMG_20220609_095312_BURST16.jpg', '8/IMG_20220609_095312_BURST21.jpg', '8/IMG_20220609_095312_BURST15.jpg', '8/IMG_20220609_095312_BURST17.jpg', '8/IMG_20220609_095312_BURST19.jpg', '9/IMG_20220609_100047_BURST30.jpg', '9/IMG_20220609_100047_BURST27.jpg', '9/IMG_20220609_100047_BURST28.jpg', '9/IMG_20220609_100047_BURST31.jpg', '9/IMG_20220609_100047_BURST29.jpg', '9/IMG_20220609_100047_BURST32.jpg', '9/IMG_20220609_100047_BURST42.jpg', '9/IMG_20220609_100216_BURST4.jpg', '9/IMG_20220609_100216_BURST8.jpg', '9/IMG_20220609_100216_BURST6.jpg', '9/IMG_20220609_100216_BURST7.jpg', '9/IMG_20220609_100216_BURST5.jpg', '10/IMG20220610085917_BURST000_COVER.jpg', '10/IMG20220610085917_BURST001.jpg', '10/IMG20220610085917_BURST002.jpg', '10/IMG20220610085917_BURST004.jpg', '10/IMG20220610085917_BURST003.jpg', '10/IMG20220610085917_BURST007.jpg', '10/IMG20220610085917_BURST006.jpg', '10/IMG20220610085917_BURST005.jpg', '10/IMG20220610085917_BURST008.jpg', '10/IMG20220610085917_BURST009.jpg', '10/IMG20220610085917_BURST010.jpg', '10/IMG20220610085917_BURST011.jpg', '11/IMG20220610085752_BURST000_COVER.jpg', '11/IMG20220610085752_BURST002.jpg', '11/IMG20220610085752_BURST001.jpg', '11/IMG20220610085752_BURST003.jpg', '11/IMG20220610085752_BURST004.jpg', '11/IMG20220610085752_BURST006.jpg', '11/IMG20220610085752_BURST005.jpg', '11/IMG20220610085752_BURST009.jpg', '11/IMG20220610085752_BURST007.jpg', '11/IMG20220610085752_BURST008.jpg', '11/IMG20220610085752_BURST010.jpg', '11/IMG20220610085758_BURST001.jpg', '12/IMG_20220609_100732_BURST2.jpg', '12/IMG_20220609_100732_BURST27.jpg', '12/IMG_20220609_100732_BURST26.jpg', '12/IMG_20220609_100732_BURST39.jpg', '12/IMG_20220609_100732_BURST52.jpg', '12/IMG_20220609_100732_BURST57.jpg', '12/IMG_20220609_100732_BURST56.jpg', '12/IMG_20220609_100732_BURST59.jpg', '12/IMG_20220609_100732_BURST54.jpg', '12/IMG_20220609_100732_BURST53.jpg', '12/IMG_20220609_100732_BURST58.jpg', '12/IMG_20220609_100732_BURST55.jpg', '13/IMG_20220609_101049_BURST1.jpg', '13/IMG_20220609_101049_BURST6.jpg', '13/IMG_20220609_101049_BURST5.jpg', '13/IMG_20220609_101049_BURST7.jpg', '13/IMG_20220609_101049_BURST3.jpg', '13/IMG_20220609_101049_BURST2.jpg', '13/IMG_20220609_101049_BURST4.jpg', '13/IMG_20220609_101049_BURST8.jpg', '13/IMG_20220609_101049_BURST18.jpg', '13/IMG_20220609_101049_BURST19.jpg', '13/IMG_20220609_101049_BURST64.jpg', '13/IMG_20220609_101049_BURST65.jpg', '14/IMG_20220609_101204_BURST2.jpg', '14/IMG_20220609_101204_BURST5.jpg', '14/IMG_20220609_101204_BURST4.jpg', '14/IMG_20220609_101204_BURST7.jpg', '14/IMG_20220609_101204_BURST6.jpg', '14/IMG_20220609_101204_BURST3.jpg', '14/IMG_20220609_101204_BURST8.jpg', '14/IMG_20220609_101204_BURST44.jpg', '14/IMG_20220609_101204_BURST43.jpg', '14/IMG_20220609_101204_BURST45.jpg', '14/IMG_20220609_101204_BURST46.jpg', '14/IMG_20220609_101204_BURST47.jpg', '15/IMG20220610083716.jpg', '15/IMG20220610083725_BURST001.jpg', '15/IMG20220610083725_BURST002.jpg', '15/IMG20220610083725_BURST003.jpg', '15/IMG20220610083731.jpg', '15/IMG20220610083733_BURST001.jpg', '15/IMG20220610083733_BURST000_COVER.jpg', '15/IMG20220610083733_BURST003.jpg', '15/IMG20220610083733_BURST004.jpg', '15/IMG20220610083733_BURST002.jpg', '15/IMG20220610083733_BURST006.jpg', '15/IMG20220610083733_BURST005.jpg', '16/IMG20220610083752_BURST000_COVER.jpg', '16/IMG20220610083752_BURST002.jpg', '16/IMG20220610083815.jpg', '16/IMG20220610083818.jpg', '16/IMG20220610083821.jpg', '16/IMG20220610083827.jpg', '16/IMG20220610083829.jpg', '16/IMG20220610083836.jpg', '16/IMG20220610083826.jpg', '17/IMG_20220609_100529_BURST91.jpg', '17/IMG_20220609_100529_BURST88.jpg', '17/IMG_20220609_100529_BURST89.jpg', '17/IMG_20220609_100529_BURST87.jpg', '17/IMG_20220609_100529_BURST86.jpg', '17/IMG_20220609_100529_BURST92.jpg', '17/IMG_20220609_100529_BURST93.jpg', '17/IMG_20220609_100529_BURST90.jpg', '17/IMG_20220609_100529_BURST82.jpg', '17/IMG_20220609_100529_BURST83.jpg', '17/IMG_20220609_100529_BURST85.jpg', '17/IMG_20220609_100529_BURST84.jpg', '18/IMG_20220609_100429_BURST4.jpg', '18/IMG_20220609_100429_BURST3.jpg', '18/IMG_20220609_100435_BURST1.jpg', '18/IMG_20220609_100435_BURST43.jpg', '18/IMG_20220609_100435_BURST42.jpg', '18/IMG_20220609_100435_BURST46.jpg', '18/IMG_20220609_100435_BURST49.jpg', '18/IMG_20220609_100448_BURST60.jpg', '18/IMG_20220609_100448_BURST74.jpg', '18/IMG_20220609_100448_BURST71.jpg', '18/IMG_20220609_100448_BURST72.jpg', '18/IMG_20220609_100448_BURST80.jpg', '19/IMG20220610085730_BURST000_COVER.jpg', '19/IMG20220610085730_BURST005.jpg', '19/IMG20220610085730_BURST006.jpg', '19/IMG20220610085730_BURST004.jpg', '19/IMG20220610085730_BURST009.jpg', '19/IMG20220610085730_BURST007.jpg', '19/IMG20220610085730_BURST008.jpg', '19/IMG20220610085734_BURST000_COVER.jpg', '19/IMG20220610085726.jpg', '19/IMG20220610085724.jpg', '20/IMG_20220609_095654_BURST59.jpg', '20/IMG_20220609_095654_BURST60.jpg', '20/IMG_20220609_095654_BURST82.jpg', '20/IMG_20220609_095654_BURST77.jpg', '20/IMG_20220609_095654_BURST81.jpg', '20/IMG_20220609_095654_BURST79.jpg', '20/IMG_20220609_095654_BURST78.jpg', '20/IMG_20220609_095654_BURST83.jpg', '20/IMG_20220609_095654_BURST80.jpg', '20/IMG_20220609_095654_BURST76.jpg', '20/IMG_20220609_095654_BURST75.jpg', '20/IMG_20220609_095654_BURST84.jpg', '21/IMG20220610090031_BURST000_COVER.jpg', '21/IMG20220610090031_BURST001.jpg', '21/IMG20220610090031_BURST002.jpg', '21/IMG20220610090031_BURST003.jpg', '21/IMG20220610090031_BURST004.jpg', '21/IMG20220610090031_BURST005.jpg', '21/IMG20220610090031_BURST006.jpg', '21/IMG20220610090031_BURST007.jpg', '21/IMG20220610090031_BURST008.jpg', '21/IMG20220610090031_BURST009.jpg', '21/IMG20220610090031_BURST010.jpg', '21/IMG20220610090031_BURST011.jpg', '22/IMG20220610090436.jpg', '22/IMG20220610090437.jpg', '22/IMG20220610090439_BURST001.jpg', '22/IMG20220610090439_BURST000_COVER.jpg', '22/IMG20220610090439_BURST002.jpg', '22/IMG20220610090439_BURST005.jpg', '22/IMG20220610090439_BURST003.jpg', '22/IMG20220610090439_BURST004.jpg', '22/IMG20220610090439_BURST006.jpg', '22/IMG20220610090439_BURST008.jpg', '22/IMG20220610090439_BURST007.jpg', '22/IMG20220610090439_BURST009.jpg'])\n"
          ]
        }
      ]
    },
    {
      "cell_type": "code",
      "source": [
        ""
      ],
      "metadata": {
        "id": "PCLO6T0ByjGh"
      },
      "execution_count": 203,
      "outputs": []
    }
  ]
}